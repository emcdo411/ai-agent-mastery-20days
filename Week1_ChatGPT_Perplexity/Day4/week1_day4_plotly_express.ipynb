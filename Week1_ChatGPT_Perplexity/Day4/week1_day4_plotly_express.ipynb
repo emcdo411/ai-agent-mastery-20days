{
 "cells": [
  {
   "cell_type": "markdown",
   "metadata": {},
   "source": [
    "# Week 1 — Day 4: Plotly Express Dashboard (Code Version)\n",
    "\n",
    "This notebook mirrors the Plotly Studio dashboard using **Plotly Express**.\n",
    "If `Day4_dataset.csv` is not found, it will generate a small sample dataset with the required schema."
   ]
  },
  {
   "cell_type": "code",
   "execution_count": null,
   "metadata": {},
   "outputs": [],
   "source": [
    "import pandas as pd\n",
    "import numpy as np\n",
    "import plotly.express as px\n",
    "from pathlib import Path\n",
    "\n",
    "CSV_PATH = Path('Day4_dataset.csv')\n",
    "\n",
    "required_cols = [\n",
    "    \"country\",\"grain_type\",\"probiotic_type\",\n",
    "    \"avg_daily_gain_kg\",\"feed_conversion_ratio\",\n",
    "    \"roi_percent\",\"confidence\",\"source\"\n",
    "]\n",
    "\n",
    "def load_or_sample(path: Path) -> pd.DataFrame:\n",
    "    if path.exists():\n",
    "        df = pd.read_csv(path)\n",
    "        missing = [c for c in required_cols if c not in df.columns]\n",
    "        if missing:\n",
    "            raise ValueError(f\"Missing columns in CSV: {missing}\")\n",
    "        return df\n",
    "    # Fallback: small sample (synthetic)\n",
    "    rng = np.random.default_rng(42)\n",
    "    countries = [\"Brazil\",\"United States\"]\n",
    "    grains = [\"corn\",\"barley\",\"sorghum\"]\n",
    "    probiotics = [\"L. plantarum\",\"B. subtilis\",\"RumiBoost\"]\n",
    "    rows = []\n",
    "    for _ in range(200):\n",
    "        c = rng.choice(countries)\n",
    "        g = rng.choice(grains)\n",
    "        p = rng.choice(probiotics)\n",
    "        adg = rng.normal(1.25, 0.2)  # avg_daily_gain_kg\n",
    "        fcr = rng.normal(6.9, 0.5) - (0.15 if p in [\"L. plantarum\",\"B. subtilis\"] else 0)\n",
    "        roi = max(5, min(25, rng.normal(15, 4) + (1.5 if p!=\"RumiBoost\" else 0) - 0.2*(fcr-6.8)))\n",
    "        conf = float(np.clip(rng.normal(0.9, 0.03), 0.75, 0.98))\n",
    "        rows.append({\n",
    "            \"country\": c,\n",
    "            \"grain_type\": g,\n",
    "            \"probiotic_type\": p,\n",
    "            \"avg_daily_gain_kg\": round(float(adg),3),\n",
    "            \"feed_conversion_ratio\": round(float(fcr),3),\n",
    "            \"roi_percent\": round(float(roi),2),\n",
    "            \"confidence\": conf,\n",
    "            \"source\": \"Sample (Day4 fallback)\"\n",
    "        })\n",
    "    df = pd.DataFrame(rows)\n",
    "    df.to_csv(path, index=False)\n",
    "    print(f\"Created sample dataset at {path.resolve()}\")\n",
    "    return df\n",
    "\n",
    "df = load_or_sample(CSV_PATH)\n",
    "df.head(5)"
   ]
  },
  {
   "cell_type": "code",
   "execution_count": null,
   "metadata": {},
   "outputs": [],
   "source": [
    "# Filters (set to a value or None)\n",
    "FILTER_COUNTRY = None          # e.g., \"Brazil\" or \"United States\"\n",
    "FILTER_PROBIOTIC = None        # e.g., \"L. plantarum\"\n",
    "FILTER_GRAIN = None            # e.g., \"corn\"\n",
    "\n",
    "query_df = df.copy()\n",
    "if FILTER_COUNTRY:\n",
    "    query_df = query_df[query_df[\"country\"] == FILTER_COUNTRY]\n",
    "if FILTER_PROBIOTIC:\n",
    "    query_df = query_df[query_df[\"probiotic_type\"] == FILTER_PROBIOTIC]\n",
    "if FILTER_GRAIN:\n",
    "    query_df = query_df[query_df[\"grain_type\"] == FILTER_GRAIN]\n",
    "\n",
    "print(\"Filtered rows:\", len(query_df))\n",
    "query_df.head(3)"
   ]
  },
  {
   "cell_type": "code",
   "execution_count": null,
   "metadata": {},
   "outputs": [],
   "source": [
    "# KPIs\n",
    "kpi = {\n",
    "    \"Avg FCR (↓ better)\": round(query_df[\"feed_conversion_ratio\"].mean(), 3),\n",
    "    \"Avg ADG (kg)\": round(query_df[\"avg_daily_gain_kg\"].mean(), 3),\n",
    "    \"Avg ROI (%)\": round(query_df[\"roi_percent\"].mean(), 2),\n",
    "    \"Mean Confidence\": round(query_df[\"confidence\"].mean(), 3),\n",
    "}\n",
    "kpi"
   ]
  },
  {
   "cell_type": "code",
   "execution_count": null,
   "metadata": {},
   "outputs": [],
   "source": [
    "import plotly.express as px\n",
    "import pandas as pd\n",
    "\n",
    "kpi_df = pd.DataFrame([kpi]).melt(var_name=\"Metric\", value_name=\"Value\")\n",
    "fig_kpi = px.bar(kpi_df, x=\"Metric\", y=\"Value\", title=\"KPI Summary\", text=\"Value\")\n",
    "fig_kpi.update_traces(textposition=\"outside\")\n",
    "fig_kpi.update_layout(yaxis_title=None, xaxis_title=None)\n",
    "fig_kpi.show()"
   ]
  },
  {
   "cell_type": "code",
   "execution_count": null,
   "metadata": {},
   "outputs": [],
   "source": [
    "# Histogram — FCR by Country (facet)\n",
    "fig_hist = px.histogram(\n",
    "    query_df, x=\"feed_conversion_ratio\", facet_col=\"country\",\n",
    "    nbins=20, title=\"Distribution of Feed Conversion Ratio (FCR) by Country\"\n",
    ")\n",
    "fig_hist.update_layout(bargap=0.05)\n",
    "fig_hist.show()"
   ]
  },
  {
   "cell_type": "code",
   "execution_count": null,
   "metadata": {},
   "outputs": [],
   "source": [
    "# Box — ADG by Probiotic, colored by Country\n",
    "fig_box = px.box(\n",
    "    query_df, x=\"probiotic_type\", y=\"avg_daily_gain_kg\", color=\"country\",\n",
    "    points=\"all\", title=\"Average Daily Gain by Probiotic Type, colored by Country\"\n",
    ")\n",
    "fig_box.update_layout(xaxis_title=\"Probiotic Type\", yaxis_title=\"Avg Daily Gain (kg)\")\n",
    "fig_box.show()"
   ]
  },
  {
   "cell_type": "code",
   "execution_count": null,
   "metadata": {},
   "outputs": [],
   "source": [
    "# Scatter — FCR vs ROI (size = ADG, color = Probiotic)\n",
    "hover_cols = [\"country\",\"probiotic_type\",\"grain_type\",\"avg_daily_gain_kg\",\"feed_conversion_ratio\",\"roi_percent\",\"confidence\",\"source\"]\n",
    "fig_scatter = px.scatter(\n",
    "    query_df, x=\"feed_conversion_ratio\", y=\"roi_percent\",\n",
    "    size=\"avg_daily_gain_kg\", color=\"probiotic_type\", hover_data=hover_cols,\n",
    "    title=\"FCR vs ROI (size = ADG, color = Probiotic)\"\n",
    ")\n",
    "fig_scatter.update_layout(xaxis_title=\"Feed Conversion Ratio (↓ better)\", yaxis_title=\"ROI (%)\")\n",
    "fig_scatter.show()"
   ]
  },
  {
   "cell_type": "code",
   "execution_count": null,
   "metadata": {},
   "outputs": [],
   "source": [
    "# Bar — Mean ROI by Grain, grouped by Country\n",
    "agg = query_df.groupby([\"grain_type\",\"country\"], as_index=False)[\"roi_percent\"].mean()\n",
    "fig_bar = px.bar(\n",
    "    agg, x=\"grain_type\", y=\"roi_percent\", color=\"country\", barmode=\"group\",\n",
    "    title=\"Mean ROI by Grain Type (grouped by Country)\", text=\"roi_percent\"\n",
    ")\n",
    "fig_bar.update_traces(texttemplate=\"%{text:.2f}\", textposition=\"outside\")\n",
    "fig_bar.update_layout(yaxis_title=\"Mean ROI (%)\", xaxis_title=\"Grain Type\")\n",
    "fig_bar.show()"
   ]
  },
  {
   "cell_type": "code",
   "execution_count": null,
   "metadata": {},
   "outputs": [],
   "source": [
    "# Save all charts to HTML\n",
    "from pathlib import Path\n",
    "out_dir = Path(\"week1/exports\")\n",
    "out_dir.mkdir(parents=True, exist_ok=True)\n",
    "fig_kpi.write_html(out_dir / \"kpi_summary.html\", include_plotlyjs=\"cdn\")\n",
    "fig_hist.write_html(out_dir / \"hist_fcr_by_country.html\", include_plotlyjs=\"cdn\")\n",
    "fig_box.write_html(out_dir / \"box_adg_by_probiotic_country.html\", include_plotlyjs=\"cdn\")\n",
    "fig_scatter.write_html(out_dir / \"scatter_fcr_vs_roi.html\", include_plotlyjs=\"cdn\")\n",
    "fig_bar.write_html(out_dir / \"bar_mean_roi_by_grain_country.html\", include_plotlyjs=\"cdn\")\n",
    "print(\"Saved HTML charts to:\", out_dir.resolve())"
   ]
  }
 ],
 "metadata": {
  "kernelspec": {
   "display_name": "Python 3",
   "language": "python",
   "name": "python3"
  },
  "language_info": {
   "name": "python",
   "version": "3.11"
  }
 },
 "nbformat": 4,
 "nbformat_minor": 5
}
